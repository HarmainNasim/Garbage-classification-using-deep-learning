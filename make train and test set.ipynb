{
 "cells": [
  {
   "cell_type": "code",
   "execution_count": 2,
   "id": "98230cb8",
   "metadata": {},
   "outputs": [],
   "source": [
    "import shutil, pathlib, os\n",
    "\n",
    "original_dir = pathlib.Path('Garbageclassification')\n",
    "new_base_dir = pathlib.Path('data')\n",
    "def make_subset_train():\n",
    "    for category in ('cardboard', 'glass', 'metal', 'paper', 'plastic', 'trash'):\n",
    "        dir = new_base_dir / 'train' / category\n",
    "        os.makedirs(dir)\n",
    "        fnames = [f'{category}{i}.jpg'\n",
    "                  for i in range(1, len(os.listdir(original_dir / category)) // 10 * 9)]\n",
    "        for fname in fnames:\n",
    "            shutil.copyfile(src = original_dir / category /fname,\n",
    "                            dst = dir / fname) \n",
    "            \n",
    "# def make_subset_validation():\n",
    "#     for category in ('cardboard', 'glass', 'metal', 'paper', 'plastic', 'trash'):\n",
    "#         dir = new_base_dir / 'validation' / category\n",
    "#         os.makedirs(dir)\n",
    "#         fnames = [f'{category}{i}.jpg'\n",
    "#                   for i in range(len(os.listdir(original_dir / category)) // 10 * 7, \n",
    "#                   (len(os.listdir(original_dir / category)) // 10) * 8)]\n",
    "#         for fname in fnames:\n",
    "#             shutil.copyfile(src = original_dir / category /fname,\n",
    "#                             dst = dir / fname)\n",
    "             \n",
    "def make_subset_test():\n",
    "    for category in ('cardboard', 'glass', 'metal', 'paper', 'plastic', 'trash'):\n",
    "        dir = new_base_dir / 'test' / category\n",
    "        os.makedirs(dir)\n",
    "        fnames = [f'{category}{i}.jpg'\n",
    "                  for i in range((len(os.listdir(original_dir / category)) // 10) * 9,\n",
    "                                 len(os.listdir(original_dir / category)) + 1)]\n",
    "        for fname in fnames:\n",
    "            shutil.copyfile(src = original_dir / category /fname,\n",
    "                            dst = dir / fname)         \n",
    "            \n",
    "\n",
    "make_subset_train()\n",
    "# make_subset_validation()\n",
    "make_subset_test()\n",
    "\n"
   ]
  },
  {
   "cell_type": "code",
   "execution_count": null,
   "id": "21dba900",
   "metadata": {},
   "outputs": [],
   "source": []
  }
 ],
 "metadata": {
  "kernelspec": {
   "display_name": "Python 3",
   "language": "python",
   "name": "python3"
  },
  "language_info": {
   "codemirror_mode": {
    "name": "ipython",
    "version": 3
   },
   "file_extension": ".py",
   "mimetype": "text/x-python",
   "name": "python",
   "nbconvert_exporter": "python",
   "pygments_lexer": "ipython3",
   "version": "3.8.8"
  }
 },
 "nbformat": 4,
 "nbformat_minor": 5
}
